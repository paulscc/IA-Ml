{
 "cells": [
  {
   "cell_type": "markdown",
   "metadata": {},
   "source": [
    "Autor:  \n",
    "Manuel Eugenio Morocho Cayamcela, PhD"
   ]
  },
  {
   "cell_type": "markdown",
   "metadata": {},
   "source": [
    "## Extracción de Patrones con los datos de California Housing Prices"
   ]
  },
  {
   "cell_type": "markdown",
   "metadata": {},
   "source": [
    "### **Objetivo y alcance del trabajo:**"
   ]
  },
  {
   "cell_type": "markdown",
   "metadata": {},
   "source": [
    "Esta prueba práctica se centra en el análisis exploratorio de datos y la visualización de un conjunto de datos de viviendas. El conjunto de datos contiene información sobre las características de las viviendas, como la ubicación geográfica, el tamaño, el número de habitaciones, el precio medio y la proximidad al océano.\n",
    "\n",
    "El objetivo principal de este notebook es entender las relaciones entre las diferentes características de las viviendas. Para ello, realizaremos una serie de tareas, incluyendo la limpieza de los datos, la transformación de variables categóricas en numéricas, el cálculo de correlaciones entre las variables y la visualización de estas correlaciones.\n",
    "\n",
    "Al final de este notebook, tendremos una mejor comprensión de cómo las diferentes características de las viviendas están relacionadas entre sí, lo que nos permitirá realizar análisis más detallados en el futuro."
   ]
  },
  {
   "cell_type": "markdown",
   "metadata": {},
   "source": [
    "El dataset 'california_housing_prices.csv' contiene información sobre los precios de viviendas en California. Las variables presentes en el dataset son las siguientes:\n",
    "\n",
    "1. longitude: La longitud geográfica de la ubicación de la vivienda.\n",
    "2. latitude: La latitud geográfica de la ubicación de la vivienda.\n",
    "3. housing_median_age: La edad mediana de las viviendas en la ubicación.\n",
    "4. total_rooms: El número total de habitaciones en la vivienda.\n",
    "5. total_bedrooms: El número total de dormitorios en la vivienda.\n",
    "6. population: La población total en la ubicación.\n",
    "7. households: El número total de hogares en la ubicación.\n",
    "8. median_income: El ingreso mediano de los hogares en la ubicación.\n",
    "9. median_house_value: El valor mediano de las viviendas en la ubicación.\n",
    "10. ocean_proximity: La proximidad de la vivienda al océano.\n",
    "\n",
    "El dataset contiene un total de 20,640 registros. Las variables tienen diferentes tipos de datos, siendo la mayoría variables numéricas (float64) y una variable categórica (object). Algunas variables tienen valores faltantes en el dataset."
   ]
  },
  {
   "cell_type": "markdown",
   "metadata": {},
   "source": [
    "### **Fase I:** Carga y análisis exploratorio inicial de los datos"
   ]
  },
  {
   "cell_type": "code",
   "execution_count": null,
   "metadata": {},
   "outputs": [],
   "source": [
    "# Importamos las librerías 'pandas' con alias 'pd', 'seaborn' con alias 'sns', y 'matplotlib.pyplot' con alias 'plt'\n",
    "import ____ as ____\n",
    "import ____ as ____\n",
    "import ____ as ____"
   ]
  },
  {
   "cell_type": "code",
   "execution_count": 4,
   "metadata": {},
   "outputs": [],
   "source": [
    "# Cargamos el conjunto de datos 'california_housing_prices.csv' en un DataFrame llamado 'housing'\n",
    "housing = pd.____('____')"
   ]
  },
  {
   "cell_type": "code",
   "execution_count": null,
   "metadata": {},
   "outputs": [],
   "source": [
    "# Utilizamos el método 'head()' para visualizar las primeras 15 filas del DataFrame 'housing'\n",
    "housing.____(____)"
   ]
  },
  {
   "cell_type": "code",
   "execution_count": null,
   "metadata": {},
   "outputs": [],
   "source": [
    "# Utilizamos el método 'describe()' para obtener estadísticas descriptivas del DataFrame 'housing'\n",
    "____.____()"
   ]
  },
  {
   "cell_type": "code",
   "execution_count": null,
   "metadata": {},
   "outputs": [],
   "source": [
    "# Utilizamos el método 'info()' para obtener información sobre el DataFrame 'housing'\n",
    "____.____()"
   ]
  },
  {
   "cell_type": "markdown",
   "metadata": {},
   "source": [
    "### **Fase II:** Visualización de los datos"
   ]
  },
  {
   "cell_type": "code",
   "execution_count": null,
   "metadata": {},
   "outputs": [],
   "source": [
    "# Utilizamos el método 'hist()' de 'pandas' para visualizar un histograma de todas las columnas del DataFrame 'housing', con un tamaño de figura de 20x15\n",
    "____.____(figsize=(____, 15))"
   ]
  },
  {
   "cell_type": "code",
   "execution_count": null,
   "metadata": {},
   "outputs": [],
   "source": [
    "# Usamos la librería 'seaborn' para visualizar un 'scatterplot' (gráfico de dispersión) de las columnas 'longitude' y 'latitude' de las viviendas en California (DataFrame 'housing')\n",
    "\n",
    "sns.____(x=____, y=____, data=____)"
   ]
  },
  {
   "cell_type": "code",
   "execution_count": null,
   "metadata": {},
   "outputs": [],
   "source": [
    "# Usamos la librería 'seaborn' para visualizar un 'scatterplot' (gráfico de dispersión) de las columnas 'longitude' y 'latitude' de las viviendas en California (DataFrame 'housing')\n",
    "# Usamos el parámetro de opacidad 'alpha' de 0.1. Esto significa que los puntos tendrán una opacidad del 10%. Esto es útil cuando tenemos muchos puntos y queremos visualizar la densidad\n",
    "# Usamos el parámetro 'hue' para agregar una dimensión adicional a la trama al colorear los puntos de datos según la variable 'median_house_value'\n",
    "sns.____(x=____, y=____, data=____, alpha=0.1, hue=____)"
   ]
  },
  {
   "cell_type": "code",
   "execution_count": null,
   "metadata": {},
   "outputs": [],
   "source": [
    "# Usamos la librería 'seaborn' para visualizar un 'scatterplot' (gráfico de dispersión) de las columnas 'longitude' y 'latitude' de las viviendas en California, con la intensidad del color representando la proximidad al océano\n",
    "sns.____(x=____, y=____, data=____, alpha=0.1, hue=____)"
   ]
  },
  {
   "cell_type": "markdown",
   "metadata": {},
   "source": [
    "### **Fase III:** Correlación y perfilado de datos con [ydata_profiling](https://docs.profiling.ydata.ai/latest/)"
   ]
  },
  {
   "cell_type": "code",
   "execution_count": null,
   "metadata": {},
   "outputs": [],
   "source": [
    "# Instala la librería 'ydata_profiling' (Pandas Profiling) en el ambiente de desarrollo\n",
    "!pip install ____\n",
    "\n",
    "# Importa la clase 'ProfileReport' desde 'ydata_profiling'\n",
    "from ____ import ____\n",
    "\n",
    "# Utiliza Pandas Profiler para generar un informe de perfilado de datos del DataFrame 'housing'\n",
    "profile = ProfileReport(____, title='Reporte Perfilamiento de Datos', explorative=True)\n",
    "profile.to_notebook_iframe()\n",
    "\n",
    "# Opcional: Para generar un informe de perfilamiento de datos en formato HTML, utiliza el método 'to_file()' de la clase 'ProfileReport'\n",
    "# profile.to_file(\"reporte_perfilamiento_datos.html\")"
   ]
  }
 ],
 "metadata": {
  "kernelspec": {
   "display_name": ".venv (3.11.3)",
   "language": "python",
   "name": "python3"
  },
  "language_info": {
   "codemirror_mode": {
    "name": "ipython",
    "version": 3
   },
   "file_extension": ".py",
   "mimetype": "text/x-python",
   "name": "python",
   "nbconvert_exporter": "python",
   "pygments_lexer": "ipython3",
   "version": "3.11.3"
  }
 },
 "nbformat": 4,
 "nbformat_minor": 2
}
