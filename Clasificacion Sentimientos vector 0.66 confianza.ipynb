{
 "cells": [
  {
   "cell_type": "code",
   "execution_count": 9,
   "id": "3ebf53ab-4e67-4b07-b880-04640b2a6a8f",
   "metadata": {},
   "outputs": [
    {
     "name": "stdout",
     "output_type": "stream",
     "text": [
      "\n",
      "Reporte de clasificación: \n",
      "               precision    recall  f1-score   support\n",
      "\n",
      "    Negativo       1.00      1.00      1.00         1\n",
      "     Neutral       0.50      1.00      0.67         1\n",
      "    Positivo       0.00      0.00      0.00         1\n",
      "\n",
      "    accuracy                           0.67         3\n",
      "   macro avg       0.50      0.67      0.56         3\n",
      "weighted avg       0.50      0.67      0.56         3\n",
      "\n",
      "Precisión del modelo:  0.6666666666666666\n"
     ]
    },
    {
     "name": "stderr",
     "output_type": "stream",
     "text": [
      "C:\\Users\\pcstu\\anaconda3\\Lib\\site-packages\\sklearn\\metrics\\_classification.py:1531: UndefinedMetricWarning: Precision is ill-defined and being set to 0.0 in labels with no predicted samples. Use `zero_division` parameter to control this behavior.\n",
      "  _warn_prf(average, modifier, f\"{metric.capitalize()} is\", len(result))\n",
      "C:\\Users\\pcstu\\anaconda3\\Lib\\site-packages\\sklearn\\metrics\\_classification.py:1531: UndefinedMetricWarning: Precision is ill-defined and being set to 0.0 in labels with no predicted samples. Use `zero_division` parameter to control this behavior.\n",
      "  _warn_prf(average, modifier, f\"{metric.capitalize()} is\", len(result))\n",
      "C:\\Users\\pcstu\\anaconda3\\Lib\\site-packages\\sklearn\\metrics\\_classification.py:1531: UndefinedMetricWarning: Precision is ill-defined and being set to 0.0 in labels with no predicted samples. Use `zero_division` parameter to control this behavior.\n",
      "  _warn_prf(average, modifier, f\"{metric.capitalize()} is\", len(result))\n"
     ]
    }
   ],
   "source": [
    "\n",
    "import pandas as pd\n",
    "from sklearn.model_selection import train_test_split \n",
    "from sklearn.naive_bayes import MultinomialNB\n",
    "from sklearn.feature_extraction.text import CountVectorizer \n",
    "from sklearn.metrics import accuracy_score, classification_report\n",
    "import matplotlib.pyplot as plt\n",
    "\n",
    "\n",
    "data = { \n",
    "    \"Comentario\": [\n",
    "\"Me encanta este producto, es fantástico\",\n",
    "\"Es horrible, no lo recomiendo para nada\",\n",
    "    \"Es aceptable por el precio que tiene\",\n",
    "    \"La calidad es excelente, estoy muy feliz\", \n",
    "    \"No vale la pena, pésima experiencia\",\n",
    "\"El producto es bueno, pero el envío fue lento\", \n",
    "    \"Muy malo, se rompió al segundo día\", \n",
    "    \"Perfecto, superó mis expectativas\", \n",
    "    \"Ni bien ni mal, es lo que esperaba\", \n",
    "    \"Es un desastre, no lo compres\"\n",
    "    ],\n",
    "\"Calificación\": [5, 1, 3, 5, 1, 4, 1, 5, 3, 1]\n",
    "        }\n",
    "\n",
    "    \n",
    "df = pd.DataFrame(data)\n",
    "\n",
    "def asignar_sentimiento (calificacion):\n",
    "    if calificacion >= 4:\n",
    "        return \"Positivo\"\n",
    "    if calificacion==3:\n",
    "        return \"Neutral\"\n",
    "    else:\n",
    "        return \"Negativo\"\n",
    "\n",
    "df[\"Sentimiento\"] = df[\"Calificación\"].apply(asignar_sentimiento)\n",
    "X = df[\"Comentario\"]\n",
    "y = df[\"Sentimiento\"]\n",
    "vector=CountVectorizer()\n",
    "X_vectorizado = vector.fit_transform(X)\n",
    "\n",
    "X_train, X_test, y_train, y_test =train_test_split(X_vectorizado, y, test_size=0.3, random_state=42)\n",
    "modelo=MultinomialNB()\n",
    "modelo.fit(X_train, y_train)\n",
    "\n",
    "y_pred =modelo.predict(X_test)\n",
    "print(\"\\nReporte de clasificación: \\n\", classification_report (y_test, y_pred))\n",
    "print(\"Precisión del modelo: \", accuracy_score (y_test, y_pred))\n"
   ]
  },
  {
   "cell_type": "code",
   "execution_count": null,
   "id": "3abf01a6-4825-4df0-8d81-bc7b9fbf1c45",
   "metadata": {},
   "outputs": [],
   "source": []
  }
 ],
 "metadata": {
  "kernelspec": {
   "display_name": "Python 3 (ipykernel)",
   "language": "python",
   "name": "python3"
  },
  "language_info": {
   "codemirror_mode": {
    "name": "ipython",
    "version": 3
   },
   "file_extension": ".py",
   "mimetype": "text/x-python",
   "name": "python",
   "nbconvert_exporter": "python",
   "pygments_lexer": "ipython3",
   "version": "3.12.7"
  }
 },
 "nbformat": 4,
 "nbformat_minor": 5
}
