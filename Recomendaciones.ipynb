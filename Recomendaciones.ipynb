{
 "cells": [
  {
   "cell_type": "code",
   "execution_count": 51,
   "id": "60e06033-f625-4e1f-9dea-5130e3486e5c",
   "metadata": {},
   "outputs": [
    {
     "name": "stdout",
     "output_type": "stream",
     "text": [
      "\n",
      "Recomendaciones basadas en 'Blinding Lights':\n",
      "Titulo\n",
      "Lose Yourself    0.999962\n",
      "Rockstar         0.999948\n",
      "HUMBLE.          0.999938\n",
      "Name: Blinding Lights, dtype: float64\n"
     ]
    }
   ],
   "source": [
    "import pandas as pd\n",
    "from sklearn.metrics.pairwise import cosine_similarity \n",
    "from sklearn.preprocessing import OneHotEncoder\n",
    "import numpy as np\n",
    "\n",
    "data = {\n",
    "'Titulo':[\n",
    "    'Blinding Lights', 'Shape of You', 'Dance Monkey', \n",
    "    'Someone You Loved', 'Bad Guy', 'Levitating',\n",
    "    'Smells Like Teen Spirit', 'Enter Sandman', 'Billie Jean', \n",
    "    'Bohemian Rhapsody', 'Lose Yourself', 'Old Town Road', \n",
    "    'Rockstar', 'HUMBLE.', 'Rolling in the Deep'],\n",
    "'Artista':[\n",
    "\n",
    "    'The Weeknd', 'Ed Sheeran', 'Tones and I', \n",
    "    'Lewis Capaldi', 'Billie Eilish', \n",
    "    'Dua Lipa', 'Nirvana', 'Metallica',\n",
    "    'Michael Jackson', 'Queen', 'Eminem', \n",
    "    'Lil Nas X', 'Post Malone', 'Kendrick Lamar', 'Adele'],\n",
    "'Género':[\n",
    "    \n",
    "        'Pop', 'Pop', 'Pop',\n",
    "        'Pop', 'Pop', 'Pop',\n",
    "        'Rock', 'Metal', 'Pop',\n",
    "        'Rock', 'Rap', 'Country', 'Rap', 'Rap', 'Soul'],\n",
    "'Rating':[\n",
    "        9.1, 8.9, 8.7,\n",
    "        9.0, 8.8, 9.2,\n",
    "        9.5, 9.3, 9.8,\n",
    "        9.7, 9.6, 8.5,\n",
    "        9.4, 9.0, 9.9],\n",
    "'BPM':[\n",
    "        171,95,98,\n",
    "        110,135,103,\n",
    "        147,123,117,\n",
    "        144,171,136,\n",
    "        160,150,105],\n",
    "}\n",
    "\n",
    "df=pd.DataFrame(data)\n",
    "encoder = OneHotEncoder(sparse_output=False)\n",
    "genero_encoder = encoder.fit_transform(df[['Género']])  # Use encoder, not enconder\n",
    "rating_bpm = df[['Rating', 'BPM']].values\n",
    "\n",
    "matriz_caracteristicas=np.hstack((rating_bpm, genero_encoder))\n",
    "matriz_similitud = cosine_similarity(matriz_caracteristicas)\n",
    "similarity_df = pd.DataFrame(matriz_similitud, index=df['Titulo'], columns=df['Titulo'])\n",
    "\n",
    "def recomendar_canciones(cancion):\n",
    "    similar_songs=similarity_df[cancion].sort_values(ascending=False).iloc[1:4]\n",
    "    return similar_songs\n",
    "    \n",
    "cancion_usuario='Blinding Lights'\n",
    "print (f\"\\nRecomendaciones basadas en '{cancion_usuario}':\")\n",
    "print (recomendar_canciones(cancion_usuario))"
   ]
  },
  {
   "cell_type": "code",
   "execution_count": null,
   "id": "7849420d-5312-4161-a260-d0ced0e55439",
   "metadata": {},
   "outputs": [],
   "source": []
  },
  {
   "cell_type": "code",
   "execution_count": null,
   "id": "cebce5bc-bac3-4f41-b002-81a14c09879c",
   "metadata": {},
   "outputs": [],
   "source": []
  },
  {
   "cell_type": "code",
   "execution_count": null,
   "id": "76f00d37-327f-49dd-8901-fcac4653f310",
   "metadata": {},
   "outputs": [],
   "source": []
  }
 ],
 "metadata": {
  "kernelspec": {
   "display_name": "Python 3 (ipykernel)",
   "language": "python",
   "name": "python3"
  },
  "language_info": {
   "codemirror_mode": {
    "name": "ipython",
    "version": 3
   },
   "file_extension": ".py",
   "mimetype": "text/x-python",
   "name": "python",
   "nbconvert_exporter": "python",
   "pygments_lexer": "ipython3",
   "version": "3.12.7"
  }
 },
 "nbformat": 4,
 "nbformat_minor": 5
}
